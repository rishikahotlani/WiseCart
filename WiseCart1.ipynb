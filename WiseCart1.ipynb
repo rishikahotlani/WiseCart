{
 "cells": [
  {
   "cell_type": "code",
   "execution_count": 1,
   "metadata": {},
   "outputs": [],
   "source": [
    "import os\n",
    "from openai import OpenAI\n",
    "import comet_llm\n",
    "from IPython.display import display\n",
    "import ipywidgets as widgets\n",
    "import time\n",
    "import dotenv "
   ]
  },
  {
   "cell_type": "code",
   "execution_count": 2,
   "metadata": {},
   "outputs": [
    {
     "name": "stderr",
     "output_type": "stream",
     "text": [
      "\u001b[1;38;5;39mCOMET INFO:\u001b[0m Valid Comet API Key saved in /home/codespace/.comet.config (set COMET_CONFIG to change where it is saved).\n"
     ]
    }
   ],
   "source": [
    "# Input API keys\n",
    "\n",
    "MY_OPENAI_KEY = os.getenv('MY_OPENAI_KEY')\n",
    "MY_COMET_KEY = os.getenv('MY_COMET_KEY')\n",
    "\n",
    "\n",
    "comet_llm.init(project=\"ecom_shopbot_openai\",\n",
    "               api_key=MY_COMET_KEY)"
   ]
  },
  {
   "cell_type": "code",
   "execution_count": 3,
   "metadata": {},
   "outputs": [],
   "source": [
    "# Customize your product list if necessary.\n",
    "product_list = '''\n",
    "# Fashion Shop Product List\n",
    "\n",
    "\n",
    "\n",
    "- Perfumes  \n",
    "  - Price: $20  \n",
    "  - Available Sizes: Small, Medium, Large, XL  \n",
    "  - Available Colors: Red, White, Black, Gray, Navy\n",
    "  \n",
    "- Mobile  \n",
    "  - Price: $150  \n",
    "  - Available Sizes: Small, Medium, Large, XL  \n",
    "  - Available Colors: Black, Navy Blue, Burgundy\n",
    "\n",
    "- Gifts  \n",
    "  - Price: $45  \n",
    "  - Available Sizes: Small, Medium, Large  \n",
    "  - Available Colors: Floral Print, Blue, Pink\n",
    "\n",
    "- Laptops  \n",
    "  - Price: $80  \n",
    "  - Available Sizes: Small, Medium, Large, XL  \n",
    "  - Available Colors: Black, Gray, Navy\n",
    "\n",
    "  - SkinCare \n",
    "  - Price: $80  \n",
    "  - Available Sizes: Small, Medium, Large, XL  \n",
    "  - Available Colors: Black, Gray, Navy\n",
    "\n",
    "\n",
    "\n",
    "context = [{'role': 'system',\n",
    "            'content': f\"\"\"\n",
    "You are ShopBot, an AI assistant for my online fashion shop - Nhi Yen. \n",
    "\n",
    "Your role is to assist customers in browsing products, providing information, and guiding them through the checkout process. \n",
    "\n",
    "Be friendly and helpful in your interactions.\n",
    "\n",
    "We offer a variety of products across categories such as Perfumes, Iphone, Skincsre, Laptops, mobile and key holders. \n",
    "\n",
    "Feel free to ask customers about their preferences, recommend products, and inform them about any ongoing promotions.\n",
    "\n",
    "The Current Product List is limited as below:\n",
    "\n",
    "```{product_list}```\n",
    "\n",
    "Make the shopping experience enjoyable and encourage customers to reach out if they have any questions or need assistance.\n",
    "\"\"\"}]\n",
    "\n"
   ]
  },
  {
   "cell_type": "code",
   "execution_count": 4,
   "metadata": {},
   "outputs": [],
   "source": [
    "# Create a Chatbot\n",
    "def get_completion_from_messages(messages, model=\"gpt-3.5-turbo\"):\n",
    "    client = OpenAI(\n",
    "        api_key=MY_OPENAI_KEY,\n",
    "    )\n",
    "\n",
    "    chat_completion = client.chat.completions.create(\n",
    "        messages=messages,\n",
    "        model=model,\n",
    "    )\n",
    "    return chat_completion.choices[0].message.content"
   ]
  },
  {
   "cell_type": "code",
   "execution_count": 5,
   "metadata": {},
   "outputs": [
    {
     "data": {
      "application/vnd.jupyter.widget-view+json": {
       "model_id": "e3e32b219d2e405d804468b62b55d966",
       "version_major": 2,
       "version_minor": 0
      },
      "text/plain": [
       "VBox(children=(Text(value='Hi', placeholder='Enter text here…'), Button(description='Chat!', style=ButtonStyle…"
      ]
     },
     "metadata": {},
     "output_type": "display_data"
    },
    {
     "name": "stdout",
     "output_type": "stream",
     "text": [
      "Prompt logged to https://www.comet.com/yennhi95zz/ecom-shopbot-openai\n"
     ]
    },
    {
     "data": {
      "application/vnd.jupyter.widget-view+json": {
       "model_id": "0b279e6f2f7346b68e4f94a19833b702",
       "version_major": 2,
       "version_minor": 0
      },
      "text/plain": [
       "VBox(children=(Output(), Output()))"
      ]
     },
     "metadata": {},
     "output_type": "display_data"
    },
    {
     "data": {
      "application/vnd.jupyter.widget-view+json": {
       "model_id": "46fc618b19f242c7bcbf30ae22037e1d",
       "version_major": 2,
       "version_minor": 0
      },
      "text/plain": [
       "VBox(children=(Output(), Output()))"
      ]
     },
     "metadata": {},
     "output_type": "display_data"
    },
    {
     "data": {
      "application/vnd.jupyter.widget-view+json": {
       "model_id": "f8b8c017c9c647aaa56e0ac81d7f79ac",
       "version_major": 2,
       "version_minor": 0
      },
      "text/plain": [
       "VBox(children=(Output(), Output()))"
      ]
     },
     "metadata": {},
     "output_type": "display_data"
    },
    {
     "data": {
      "application/vnd.jupyter.widget-view+json": {
       "model_id": "21e08d05c1db4432b166784eb3a8c9a5",
       "version_major": 2,
       "version_minor": 0
      },
      "text/plain": [
       "VBox(children=(Output(), Output()))"
      ]
     },
     "metadata": {},
     "output_type": "display_data"
    },
    {
     "data": {
      "application/vnd.jupyter.widget-view+json": {
       "model_id": "5f17ed3cb74041c29886741df5f573d6",
       "version_major": 2,
       "version_minor": 0
      },
      "text/plain": [
       "VBox(children=(Output(), Output()))"
      ]
     },
     "metadata": {},
     "output_type": "display_data"
    },
    {
     "data": {
      "application/vnd.jupyter.widget-view+json": {
       "model_id": "b2d89965dfe04cda80da8c8c28ebd94c",
       "version_major": 2,
       "version_minor": 0
      },
      "text/plain": [
       "VBox(children=(Output(), Output()))"
      ]
     },
     "metadata": {},
     "output_type": "display_data"
    },
    {
     "data": {
      "application/vnd.jupyter.widget-view+json": {
       "model_id": "9de941bcfa9b46be9ba6e9e196a25cdc",
       "version_major": 2,
       "version_minor": 0
      },
      "text/plain": [
       "VBox(children=(Output(), Output()))"
      ]
     },
     "metadata": {},
     "output_type": "display_data"
    },
    {
     "data": {
      "application/vnd.jupyter.widget-view+json": {
       "model_id": "2d9efb8867ac418294e949a4ff0d6b3a",
       "version_major": 2,
       "version_minor": 0
      },
      "text/plain": [
       "VBox(children=(Output(), Output()))"
      ]
     },
     "metadata": {},
     "output_type": "display_data"
    },
    {
     "data": {
      "application/vnd.jupyter.widget-view+json": {
       "model_id": "69d5a1c0b2b74f88a4d96b9f6096ed7a",
       "version_major": 2,
       "version_minor": 0
      },
      "text/plain": [
       "VBox(children=(Output(), Output()))"
      ]
     },
     "metadata": {},
     "output_type": "display_data"
    },
    {
     "data": {
      "application/vnd.jupyter.widget-view+json": {
       "model_id": "31bc85373a4046049318ac6d8637b724",
       "version_major": 2,
       "version_minor": 0
      },
      "text/plain": [
       "VBox(children=(Output(), Output()))"
      ]
     },
     "metadata": {},
     "output_type": "display_data"
    }
   ],
   "source": [
    "# Interacting with Customers\n",
    "\n",
    "def collect_messages(_):\n",
    "    user_input = inp.value\n",
    "    inp.value = ''\n",
    "    context.append({'role':'user', 'content':f\"{user_input}\"})\n",
    "\n",
    "    # Record the start time\n",
    "    start_time = time.time()  \n",
    "\n",
    "    response = get_completion_from_messages(context) \n",
    "\n",
    "    # Record the end time\n",
    "    end_time = time.time()  \n",
    "\n",
    "    # Calculate the duration\n",
    "    duration = end_time - start_time  \n",
    "\n",
    "    # Log to comet_llm\n",
    "    comet_llm.log_prompt(\n",
    "        prompt=user_input,\n",
    "        output=response,\n",
    "        duration=duration,\n",
    "        metadata={\n",
    "        \"role\": context[-1]['role'],\n",
    "        \"content\": context[-1]['content'],\n",
    "        \"context\": context,\n",
    "        \"product_list\": product_list\n",
    "        },\n",
    "    )\n",
    "\n",
    "    context.append({'role': 'assistant', 'content': f\"{response}\"})\n",
    "\n",
    "    user_pane = widgets.Output()\n",
    "    with user_pane:\n",
    "        display(widgets.HTML(f\"<b>User:</b> {user_input}\"))\n",
    "\n",
    "    assistant_pane = widgets.Output()\n",
    "    with assistant_pane:\n",
    "        display(widgets.HTML(f\"<b>Assistant:</b> {response}\"))\n",
    "\n",
    "    display(widgets.VBox([user_pane, assistant_pane]))\n",
    "\n",
    "inp = widgets.Text(value=\"Hi\", placeholder='Enter text here…')\n",
    "button_conversation = widgets.Button(description=\"Chat!\")\n",
    "button_conversation.on_click(collect_messages)\n",
    "\n",
    "dashboard = widgets.VBox([inp, button_conversation])\n",
    "\n",
    "display(dashboard)\n"
   ]
  },
  {
   "cell_type": "code",
   "execution_count": 6,
   "metadata": {},
   "outputs": [
    {
     "name": "stdout",
     "output_type": "stream",
     "text": [
      "Certainly! Here's a summary of your order:\n",
      "\n",
      "| Product             | Color | Size | Price |\n",
      "|---------------------|-------|------|-------|\n",
      "| Red Women's T-shirt | Red   | Small| $20   |\n",
      "| Black Running Shoes | Black | 10   | $40   |\n",
      "\n",
      "If everything looks good, you can proceed to checkout. Let me know if you need any further assistance!\n"
     ]
    }
   ],
   "source": [
    "messages =  context.copy()\n",
    "messages.append(\n",
    "{'role':'system'\n",
    " , 'content':'create a table summary of the previous order.'}   \n",
    ")\n",
    "\n",
    "response = get_completion_from_messages(messages)\n",
    "print(response)\n"
   ]
  }
 ],
 "metadata": {
  "kernelspec": {
   "display_name": "Python 3",
   "language": "python",
   "name": "python3"
  },
  "language_info": {
   "codemirror_mode": {
    "name": "ipython",
    "version": 3
   },
   "file_extension": ".py",
   "mimetype": "text/x-python",
   "name": "python",
   "nbconvert_exporter": "python",
   "pygments_lexer": "ipython3",
   "version": "3.10.8"
  }
 },
 "nbformat": 4,
 "nbformat_minor": 2
}
